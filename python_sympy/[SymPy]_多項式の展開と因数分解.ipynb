{
  "nbformat": 4,
  "nbformat_minor": 0,
  "metadata": {
    "colab": {
      "name": "[SymPy] 多項式の展開と因数分解.ipynb",
      "version": "0.3.2",
      "provenance": [],
      "include_colab_link": true
    },
    "kernelspec": {
      "name": "python3",
      "display_name": "Python 3"
    }
  },
  "cells": [
    {
      "cell_type": "markdown",
      "metadata": {
        "id": "view-in-github",
        "colab_type": "text"
      },
      "source": [
        "<a href=\"https://colab.research.google.com/github/kaeken1jp/snippets/blob/master/python_sympy/%5BSymPy%5D_%E5%A4%9A%E9%A0%85%E5%BC%8F%E3%81%AE%E5%B1%95%E9%96%8B%E3%81%A8%E5%9B%A0%E6%95%B0%E5%88%86%E8%A7%A3.ipynb\" target=\"_parent\"><img src=\"https://colab.research.google.com/assets/colab-badge.svg\" alt=\"Open In Colab\"/></a>"
      ]
    },
    {
      "cell_type": "code",
      "metadata": {
        "id": "Uz2_8ef_Dp-M",
        "colab_type": "code",
        "colab": {
          "base_uri": "https://localhost:8080/",
          "height": 34
        },
        "outputId": "64cd0c1c-f89d-43a3-9d6d-95bfe46231ac"
      },
      "source": [
        "import sympy\n",
        "\n",
        "# 文字を定義\n",
        "sympy.var('a b')\n",
        "\n",
        "# 多項式を定義\n",
        "f1 = a + 5 * b + 2\n",
        "f2 = a + 2 * b + 5\n",
        "\n",
        "# 多項式の積\n",
        "g = f1 * f2\n",
        "\n",
        "print(g)"
      ],
      "execution_count": 1,
      "outputs": [
        {
          "output_type": "stream",
          "text": [
            "(a + 2*b + 5)*(a + 5*b + 2)\n"
          ],
          "name": "stdout"
        }
      ]
    },
    {
      "cell_type": "code",
      "metadata": {
        "id": "upZIuKFhDwNf",
        "colab_type": "code",
        "colab": {
          "base_uri": "https://localhost:8080/",
          "height": 34
        },
        "outputId": "4db97553-8380-4b48-ae06-152df920d576"
      },
      "source": [
        "# SymPy 多項式の展開\n",
        "\n",
        "# sympyをインポート\n",
        "import sympy\n",
        "\n",
        "# 記号 (Symbol) を定義\n",
        "sympy.var('a b')\n",
        "\n",
        "# 多項式を定義\n",
        "f1 = a + 5 * b + 2\n",
        "f2 = a + 2 * b + 5\n",
        "\n",
        "# 多項式の展開\n",
        "g = sympy.expand(f1 * f2)\n",
        "\n",
        "print(\"f1 × f2 =\", g)\n"
      ],
      "execution_count": 2,
      "outputs": [
        {
          "output_type": "stream",
          "text": [
            "f1 × f2 = a**2 + 7*a*b + 7*a + 10*b**2 + 29*b + 10\n"
          ],
          "name": "stdout"
        }
      ]
    },
    {
      "cell_type": "code",
      "metadata": {
        "id": "CRYtvXhMD057",
        "colab_type": "code",
        "colab": {
          "base_uri": "https://localhost:8080/",
          "height": 34
        },
        "outputId": "88303fda-e4ec-4c81-8e57-c1278872c520"
      },
      "source": [
        "# SymPy 因数分解[1]\n",
        "\n",
        "# sympyをインポート\n",
        "import sympy\n",
        "\n",
        "# 記号を定義\n",
        "sympy.var('a')\n",
        "\n",
        "# 多項式を定義\n",
        "f = a ** 2 + 5 * a + 6\n",
        "\n",
        "# fを因数分解\n",
        "print(sympy.factor(f))"
      ],
      "execution_count": 3,
      "outputs": [
        {
          "output_type": "stream",
          "text": [
            "(a + 2)*(a + 3)\n"
          ],
          "name": "stdout"
        }
      ]
    }
  ]
}